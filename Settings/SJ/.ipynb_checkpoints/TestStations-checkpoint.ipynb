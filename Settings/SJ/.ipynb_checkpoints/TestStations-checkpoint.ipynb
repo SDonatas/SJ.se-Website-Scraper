{
 "cells": [
  {
   "cell_type": "code",
   "execution_count": 8,
   "metadata": {},
   "outputs": [],
   "source": [
    "import csv"
   ]
  },
  {
   "cell_type": "code",
   "execution_count": 9,
   "metadata": {},
   "outputs": [],
   "source": [
    "with open(\"stations.csv\", \"r\", encoding=\"UTF-8\") as readfile:\n",
    "    rd = csv.reader(readfile)\n",
    "    newlist = list(rd)"
   ]
  },
  {
   "cell_type": "code",
   "execution_count": 10,
   "metadata": {},
   "outputs": [],
   "source": [
    "finallist = []\n",
    "for item in newlist:\n",
    "    for item2 in newlist:\n",
    "        if item[0].split(\" \")[0] != item2[0].split(\" \")[0] and \"XXX\" not in item[0] and \"XXX\" not in item2[0]:\n",
    "            finallist.append([item[0], item2[0]])"
   ]
  },
  {
   "cell_type": "code",
   "execution_count": 11,
   "metadata": {},
   "outputs": [
    {
     "data": {
      "text/plain": [
       "10"
      ]
     },
     "execution_count": 11,
     "metadata": {},
     "output_type": "execute_result"
    }
   ],
   "source": [
    "len(finallist)"
   ]
  },
  {
   "cell_type": "code",
   "execution_count": 12,
   "metadata": {},
   "outputs": [
    {
     "data": {
      "text/plain": [
       "[['Stockholm Central', 'Malmö C'],\n",
       " ['Stockholm Central', 'Malmö stadszon'],\n",
       " ['Stockholm Central', 'Malmö Airport Sturup flygplats'],\n",
       " ['Stockholm Central', 'Malmö Hyllie station'],\n",
       " ['Stockholm Central', 'Malmö Norra Vallgatan'],\n",
       " ['Malmö C', 'Stockholm Central'],\n",
       " ['Malmö stadszon', 'Stockholm Central'],\n",
       " ['Malmö Airport Sturup flygplats', 'Stockholm Central'],\n",
       " ['Malmö Hyllie station', 'Stockholm Central'],\n",
       " ['Malmö Norra Vallgatan', 'Stockholm Central']]"
      ]
     },
     "execution_count": 12,
     "metadata": {},
     "output_type": "execute_result"
    }
   ],
   "source": [
    "finallist"
   ]
  },
  {
   "cell_type": "code",
   "execution_count": null,
   "metadata": {},
   "outputs": [],
   "source": []
  }
 ],
 "metadata": {
  "kernelspec": {
   "display_name": "Python 3",
   "language": "python",
   "name": "python3"
  },
  "language_info": {
   "codemirror_mode": {
    "name": "ipython",
    "version": 3
   },
   "file_extension": ".py",
   "mimetype": "text/x-python",
   "name": "python",
   "nbconvert_exporter": "python",
   "pygments_lexer": "ipython3",
   "version": "3.6.5"
  }
 },
 "nbformat": 4,
 "nbformat_minor": 2
}
